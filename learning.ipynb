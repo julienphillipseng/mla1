{
 "metadata": {
  "language_info": {
   "codemirror_mode": {
    "name": "ipython",
    "version": 3
   },
   "file_extension": ".py",
   "mimetype": "text/x-python",
   "name": "python",
   "nbconvert_exporter": "python",
   "pygments_lexer": "ipython3",
   "version": "3.8.2-final"
  },
  "orig_nbformat": 2,
  "kernelspec": {
   "name": "Python 3.8.2 64-bit",
   "display_name": "Python 3.8.2 64-bit",
   "metadata": {
    "interpreter": {
     "hash": "31f2aee4e71d21fbe5cf8b01ff0e069b9275f58929596ceb00d14d90e3e16cd6"
    }
   }
  }
 },
 "nbformat": 4,
 "nbformat_minor": 2,
 "cells": [
  {
   "cell_type": "code",
   "execution_count": 38,
   "metadata": {},
   "outputs": [],
   "source": [
    "import numpy as np\n",
    "import sklearn\n",
    "from sklearn import neighbors\n",
    "from sklearn import tree\n",
    "from sklearn.model_selection import train_test_split\n",
    "from sklearn.model_selection import GroupKFold\n",
    "from sklearn.metrics import mean_squared_error\n"
   ]
  },
  {
   "source": [
    "Let's start by importing our data for the region & time split strategies."
   ],
   "cell_type": "markdown",
   "metadata": {}
  },
  {
   "cell_type": "code",
   "execution_count": 40,
   "metadata": {},
   "outputs": [],
   "source": [
    "hospPredictions = np.genfromtxt('combined.csv', delimiter=',', skip_header=True, usecols = (123))\n",
    "features = np.genfromtxt('combined.csv', delimiter=',', skip_header=True, usecols = (range(123)))[:, 2:]\n",
    "regions = np.genfromtxt('combined.csv', delimiter=',', skip_header=True, usecols = (0), dtype = 'str')\n",
    "dates = np.genfromtxt('combined.csv', delimiter=',', skip_header=True, usecols = (1), dtype = 'datetime64')"
   ]
  },
  {
   "source": [
    "With that out of the way, we can begin by splitting data based on the time. The selected time for the split is'2020-08-10'. Any dates after this will be in the test set and the rest of the data will be used for training. We will then test it with KNN/Decision trees."
   ],
   "cell_type": "markdown",
   "metadata": {}
  },
  {
   "cell_type": "code",
   "execution_count": 41,
   "metadata": {},
   "outputs": [
    {
     "output_type": "stream",
     "name": "stdout",
     "text": [
      "MSE (KNN):           4248.7\nMSE (DecisionTree):  3831.8\n"
     ]
    }
   ],
   "source": [
    "# get the indices for train/test data\n",
    "trainIndicesDate = np.argwhere(dates > np.datetime64(\"2020-08-10\"))[:,0]\n",
    "testIndicesDate = np.argwhere(dates <= np.datetime64(\"2020-08-10\"))[:,0]\n",
    "\n",
    "# prep the dataset\n",
    "xTrain = np.take(features, trainIndicesDate, axis = 0)\n",
    "xTest = np.take(features, testIndicesDate, axis = 0)\n",
    "yTrain = np.take(hospPredictions, trainIndicesDate, axis = 0)\n",
    "yTest = np.take(hospPredictions, testIndicesDate, axis = 0)\n",
    "\n",
    "# knn, neighbours set to 5 by default\n",
    "knn = neighbors.KNeighborsRegressor()\n",
    "knn.fit(xTrain, yTrain)\n",
    "predictionKnn = knn.predict(xTest)\n",
    "\n",
    "# decision trees\n",
    "clf = tree.DecisionTreeRegressor()\n",
    "clf = clf.fit(xTrain, yTrain)\n",
    "predictionTree = clf.predict(xTest)\n",
    "\n",
    "# get the mean squared error in order to verify the results\n",
    "print(\"MSE (KNN):          %7.1f\" % (mean_squared_error(yTest, predictionKnn)))\n",
    "print(\"MSE (DecisionTree): %7.1f\" % (mean_squared_error(yTest, predictionTree)))"
   ]
  },
  {
   "source": [
    "We can now move onto a split by region.\n",
    "\n",
    "TBD"
   ],
   "cell_type": "markdown",
   "metadata": {}
  },
  {
   "cell_type": "code",
   "execution_count": 63,
   "metadata": {},
   "outputs": [
    {
     "output_type": "stream",
     "name": "stdout",
     "text": [
      "Mean MSE (KNN):           4308.5\nMean MSE (DecisionTree):  5643.6\n"
     ]
    }
   ],
   "source": [
    "regionScoresKnn = []\n",
    "regionScoresTree = []\n",
    " \n",
    "#gss = GroupShuffleSplit(n_splits=5, train_size=0.8)\n",
    "gkf = GroupKFold(n_splits=5)\n",
    "\n",
    "for train_idx, test_idx in gkf.split(features, hospPredictions, regions):\n",
    "    trainIndices = np.array(train_idx)\n",
    "    testIndices = np.array(test_idx)\n",
    "\n",
    "    xTrain = np.take(features, trainIndices, axis = 0)\n",
    "    xTest = np.take(features, testIndices, axis = 0)\n",
    "    yTrain = np.take(hospPredictions, trainIndices, axis = 0)\n",
    "    yTest = np.take(hospPredictions, testIndices, axis = 0)\n",
    "\n",
    "    knn = neighbors.KNeighborsRegressor(n_neighbors=4)\n",
    "    knn.fit(xTrain, yTrain)\n",
    "    predictionKnn = knn.predict(xTest)\n",
    "\n",
    "    clf = tree.DecisionTreeRegressor()\n",
    "    clf = clf.fit(xTrain, yTrain)\n",
    "    predictionTree = clf.predict(xTest)\n",
    "\n",
    "    regionScoresKnn.append(mean_squared_error(yTest, predictionKnn))\n",
    "    regionScoresTree.append(mean_squared_error(yTest, predictionTree))\n",
    "\n",
    "print(\"Mean MSE (KNN):          %7.1f\" % (np.mean(regionScoresKnn)))\n",
    "print(\"Mean MSE (DecisionTree): %7.1f\" % (np.mean(regionScoresTree)))"
   ]
  },
  {
   "source": [
    "For additional testing, we will model each region separately.\n",
    "\n",
    "Once again, we will use both KNNs and decision trees."
   ],
   "cell_type": "markdown",
   "metadata": {}
  },
  {
   "cell_type": "code",
   "execution_count": 21,
   "metadata": {},
   "outputs": [
    {
     "output_type": "stream",
     "name": "stdout",
     "text": [
      "Region: US-AK | MSE (KNN):    29.5 | MSE (DecisionTree):    36.0\nRegion: US-DC | MSE (KNN):     0.0 | MSE (DecisionTree):     0.0\nRegion: US-DE | MSE (KNN):     0.0 | MSE (DecisionTree):     0.0\nRegion: US-HI | MSE (KNN):   463.9 | MSE (DecisionTree):  2825.5\nRegion: US-ID | MSE (KNN):  2076.6 | MSE (DecisionTree):  1686.8\nRegion: US-ME | MSE (KNN):   153.2 | MSE (DecisionTree):   333.5\nRegion: US-MT | MSE (KNN):  1512.1 | MSE (DecisionTree):  1188.9\nRegion: US-ND | MSE (KNN):    86.4 | MSE (DecisionTree):  1041.0\nRegion: US-NE | MSE (KNN):  3328.6 | MSE (DecisionTree):  1942.9\nRegion: US-NH | MSE (KNN):   983.6 | MSE (DecisionTree):  1075.2\nRegion: US-NM | MSE (KNN):  6647.1 | MSE (DecisionTree): 11650.8\nRegion: US-RI | MSE (KNN):  1419.0 | MSE (DecisionTree):   847.5\nRegion: US-SD | MSE (KNN):   182.6 | MSE (DecisionTree):   844.5\nRegion: US-VT | MSE (KNN):    18.4 | MSE (DecisionTree):    81.0\nRegion: US-WV | MSE (KNN):  5447.9 | MSE (DecisionTree):  6724.0\nRegion: US-WY | MSE (KNN):    39.7 | MSE (DecisionTree):    81.5\n"
     ]
    }
   ],
   "source": [
    "combined = np.genfromtxt('combined.csv', delimiter=',', skip_header=True, usecols = (range(124)), dtype = 'str') # load the entire dataset\n",
    "combined = np.delete(combined, 1, 1) # remove the dates \n",
    "regionSplit = np.split(combined[:, :], np.cumsum(np.unique(combined[:, 0], return_counts=True)[1])[:-1]) # create a list of arrays that contains the features/predictions for a specific region\n",
    "\n",
    "for regionalData in regionSplit:\n",
    "    currentRegion = regionalData[0,0] # extract the current region we're predicting\n",
    "    x = regionalData[:, 1:-1].astype(np.float) # features for the specific region\n",
    "    y = regionalData[:,-1].astype(np.float) # predictions for each instance of that region\n",
    "\n",
    "    # here, we will do a simple KNN (k=4) with an 80-20 split\n",
    "    xTrain, xTest, yTrain, yTest = train_test_split(x, y, train_size = 0.8)\n",
    "    knn = neighbors.KNeighborsRegressor(n_neighbors=4)\n",
    "    knn.fit(xTrain, yTrain)\n",
    "    predictionKnn = knn.predict(xTest)\n",
    "\n",
    "    clf = tree.DecisionTreeRegressor()\n",
    "    clf = clf.fit(xTrain, yTrain)\n",
    "    predictionTree = clf.predict(xTest)\n",
    "\n",
    "    print(\"Region: %s | MSE (KNN): %7.1f | MSE (DecisionTree): %7.1f\" % (currentRegion, mean_squared_error(yTest, predictionKnn), mean_squared_error(yTest, predictionTree)))\n"
   ]
  }
 ]
}